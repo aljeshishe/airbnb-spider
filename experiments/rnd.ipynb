{
 "cells": [
  {
   "cell_type": "code",
   "execution_count": 28,
   "outputs": [],
   "source": [
    "%load_ext autoreload\n",
    "%autoreload 2"
   ],
   "metadata": {
    "collapsed": false,
    "pycharm": {
     "name": "#%%\n"
    }
   }
  },
  {
   "cell_type": "code",
   "execution_count": 32,
   "outputs": [
    {
     "name": "stderr",
     "output_type": "stream",
     "text": [
      "100%|██████████| 372/372 [00:01<00:00, 188.78it/s]\n"
     ]
    },
    {
     "name": "stdout",
     "output_type": "stream",
     "text": [
      "Bfore 53433\n",
      "Duplicates 13030\n",
      "After 40403\n"
     ]
    }
   ],
   "source": [
    "import dtale\n",
    "from airbnb import data\n",
    "import pandas as pd\n",
    "df = data.load(\"../results/2022-12-21_02-59-19\")\n",
    "\n"
   ],
   "metadata": {
    "collapsed": false,
    "pycharm": {
     "name": "#%%\n"
    }
   }
  },
  {
   "cell_type": "code",
   "execution_count": 29,
   "outputs": [
    {
     "name": "stderr",
     "output_type": "stream",
     "text": [
      "/Users/alexeygrachev/Desktop/git/airbnb-spider/.venv/lib/python3.9/site-packages/dtale/views.py:746: FutureWarning:\n",
      "\n",
      "['listing_avgRatingA11yLabel', 'listing_avgRatingLocalized', 'listing_city', 'listing_contextualPicturesPageInfo_endCursor', 'listing_name', 'listing_titleLocale', 'pricingQuote_structuredStayDisplayPrice_primaryLine_price', 'pricingQuote_structuredStayDisplayPrice_primaryLine_discountedPrice', 'pricingQuote_structuredStayDisplayPrice_primaryLine_originalPrice'] did not aggregate successfully. If any error is raised this will raise in a future version of pandas. Drop these columns/ops to avoid this warning.\n",
      "\n"
     ]
    }
   ],
   "source": [
    "dtale.show(df).open_browser()\n"
   ],
   "metadata": {
    "collapsed": false,
    "pycharm": {
     "name": "#%%\n"
    }
   }
  },
  {
   "cell_type": "code",
   "execution_count": null,
   "outputs": [],
   "source": [
    "# create histogram from df. horizontal axis is logarithmic. Use np.histogram\n",
    "def create_histogram(df, column, bins=10, range=None, density=False, weights=None, cumulative=False, bottom=None, histtype='bar', align='mid', orientation='vertical', rwidth=None, log=False, color=None, label=None, stacked=False, normed=None, data=None, **kwargs):\n",
    "    # create histogram\n",
    "    counts, bin_edges = np.histogram(df[column], bins=bins, range=range, density=density, weights=weights,\n",
    "                                     cumulative=cumulative, bottom=bottom, histtype=histtype, align=align,\n",
    "                                     orientation=orientation, rwidth=rwidth, log=log, color=color, label=label,\n",
    "                                     stacked=stacked, normed=normed, data=data, **kwargs)\n",
    "    # create plot\n",
    "    fig, ax = plt.subplots()\n",
    "    ax.bar(bin_edges[:-1], counts, width = bin_edges[1] - bin_edges[0], color='blue')\n",
    "    ax.set_yscale('log')\n",
    "    plt.xlabel(column)\n",
    "    plt.ylabel('count')\n",
    "    plt.title('Histogram of ' + column)\n",
    "    plt.show()\n",
    "    return counts, bin_edges"
   ],
   "metadata": {
    "collapsed": false,
    "pycharm": {
     "name": "#%%\n"
    }
   }
  },
  {
   "cell_type": "code",
   "execution_count": 46,
   "outputs": [
    {
     "data": {
      "text/plain": "(array([ 124,  368,  588, 1139, 1891, 2833, 4101, 4531, 5226, 4665, 3614,\n        2943, 2407, 1466, 1250,  962,  658,  798,  215,  196,  147,   80,\n          59,   46,   24,   17,   13,   13,   10,   10,    3,    1,    0,\n           1,    2,    0,    0,    0,    0,    1]),\n array([ 2.19722458,  2.43375162,  2.67027867,  2.90680571,  3.14333276,\n         3.3798598 ,  3.61638685,  3.85291389,  4.08944094,  4.32596798,\n         4.56249503,  4.79902207,  5.03554912,  5.27207616,  5.50860321,\n         5.74513025,  5.9816573 ,  6.21818434,  6.45471139,  6.69123843,\n         6.92776548,  7.16429252,  7.40081957,  7.63734661,  7.87387366,\n         8.1104007 ,  8.34692775,  8.58345479,  8.81998183,  9.05650888,\n         9.29303592,  9.52956297,  9.76609001, 10.00261706, 10.2391441 ,\n        10.47567115, 10.71219819, 10.94872524, 11.18525228, 11.42177933,\n        11.65830637]))"
     },
     "execution_count": 46,
     "metadata": {},
     "output_type": "execute_result"
    }
   ],
   "source": [
    "import numpy as np\n",
    "count, division = np.histogram(np.log(df.price), bins=40)\n",
    "count, division"
   ],
   "metadata": {
    "collapsed": false,
    "pycharm": {
     "name": "#%%\n"
    }
   }
  },
  {
   "cell_type": "code",
   "execution_count": 47,
   "outputs": [],
   "source": [
    "import plotly.express as px\n",
    "px.bar(x=division[:-1], y=count)"
   ],
   "metadata": {
    "collapsed": false,
    "pycharm": {
     "name": "#%%\n"
    }
   }
  },
  {
   "cell_type": "code",
   "execution_count": 48,
   "outputs": [],
   "source": [
    "import numpy as np\n",
    "count, division = np.histogram(df.price, bins=40)\n",
    "count, division\n",
    "import plotly.express as px\n",
    "px.bar(x=division[:-1], y=count)\n"
   ],
   "metadata": {
    "collapsed": false,
    "pycharm": {
     "name": "#%%\n"
    }
   }
  },
  {
   "cell_type": "code",
   "execution_count": null,
   "outputs": [],
   "source": [],
   "metadata": {
    "collapsed": false,
    "pycharm": {
     "name": "#%%\n"
    }
   }
  }
 ],
 "metadata": {
  "kernelspec": {
   "display_name": "Python 3",
   "language": "python",
   "name": "python3"
  },
  "language_info": {
   "codemirror_mode": {
    "name": "ipython",
    "version": 2
   },
   "file_extension": ".py",
   "mimetype": "text/x-python",
   "name": "python",
   "nbconvert_exporter": "python",
   "pygments_lexer": "ipython2",
   "version": "2.7.6"
  }
 },
 "nbformat": 4,
 "nbformat_minor": 0
}