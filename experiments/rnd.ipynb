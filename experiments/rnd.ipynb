{
 "cells": [
  {
   "cell_type": "code",
   "execution_count": null,
   "metadata": {
    "collapsed": true,
    "pycharm": {
     "name": "#%%\n"
    }
   },
   "outputs": [],
   "source": [
    "y = yadisk.YaDisk(token=\"<token>\")\n",
    "# or\n",
    "# y = yadisk.YaDisk(\"<application-id>\", \"<application-secret>\", \"<token>\")\n",
    "\n"
   ]
  },
  {
   "cell_type": "code",
   "execution_count": null,
   "outputs": [],
   "source": [],
   "metadata": {
    "collapsed": false,
    "pycharm": {
     "name": "#%%\n"
    }
   }
  },
  {
   "cell_type": "code",
   "execution_count": null,
   "outputs": [],
   "source": [
    "print(y.check_token())\n",
    "\n",
    "# Get disk information\n",
    "print(y.get_disk_info())\n"
   ],
   "metadata": {
    "collapsed": false,
    "pycharm": {
     "name": "#%%\n"
    }
   }
  },
  {
   "cell_type": "code",
   "execution_count": 4,
   "outputs": [
    {
     "name": "stdout",
     "output_type": "stream",
     "text": [
      "https://oauth.yandex.ru/authorize?response_type=code&client_id=cfb5408109634b26a8c8d28cbcaadfb9&display=popup&force_confirm=yes\n"
     ]
    }
   ],
   "source": [
    "import yadisk\n",
    "\n",
    "y = yadisk.YaDisk(\"cfb5408109634b26a8c8d28cbcaadfb9\", \"91b8fc5870e0402faeffe22c0d0710d2\")\n",
    "print(y.get_code_url())\n"
   ],
   "metadata": {
    "collapsed": false,
    "pycharm": {
     "name": "#%%\n"
    }
   }
  },
  {
   "cell_type": "code",
   "execution_count": 5,
   "outputs": [
    {
     "name": "stdout",
     "output_type": "stream",
     "text": [
      "<TokenObject{'access_token': 'y0_AgAAAAAA1GIbAAjcagAAAADWR4Df5DkiubjzQheS9UyOO7gj8SfbxDA', 'refresh_token': '1:hhrf6zb0qbSoDU9k:VF9gO5mAnUda6GvqB9YhSAceyZaNJ0hgqewU52TcO1-o434GHJXbdQrbcBUQRL5xhBtpK0vnn48obw:bbCu8EBQ4s33SBndHIrQsg', 'token_type': 'bearer', 'expires_in': 31536000}>\n"
     ]
    }
   ],
   "source": [
    "response = y.get_token(9380912)\n",
    "print(response)"
   ],
   "metadata": {
    "collapsed": false,
    "pycharm": {
     "name": "#%%\n"
    }
   }
  },
  {
   "cell_type": "code",
   "execution_count": 6,
   "outputs": [
    {
     "name": "stdout",
     "output_type": "stream",
     "text": [
      "Sucessfully received token!\n"
     ]
    }
   ],
   "source": [
    "y.token = response.access_token\n",
    "\n",
    "if y.check_token():\n",
    "    print(\"Sucessfully received token!\")\n",
    "else:\n",
    "    print(\"Something went wrong. Not sure how though...\")\n"
   ],
   "metadata": {
    "collapsed": false,
    "pycharm": {
     "name": "#%%\n"
    }
   }
  },
  {
   "cell_type": "code",
   "execution_count": 7,
   "outputs": [
    {
     "name": "stdout",
     "output_type": "stream",
     "text": [
      "<DiskInfoObject{'max_file_size': 53687091200, 'unlimited_autoupload_enabled': True, 'total_space': 1368962105344, 'trash_size': 0, 'is_paid': True, 'used_space': 879122024339, 'system_folders': <SystemFoldersObject{'odnoklassniki': 'disk:/Социальные сети/Одноклассники', 'google': 'disk:/Социальные сети/Google+', 'instagram': 'disk:/Социальные сети/Instagram', 'vkontakte': 'disk:/Социальные сети/ВКонтакте', 'mailru': 'disk:/Социальные сети/Мой Мир', 'downloads': 'disk:/Загрузки/', 'applications': 'disk:/Приложения', 'facebook': 'disk:/Социальные сети/Facebook', 'social': 'disk:/Социальные сети/', 'screenshots': 'disk:/Скриншоты/', 'photostream': 'disk:/Фотокамера/'}>, 'user': <UserObject{'country': 'ru', 'login': 'ax66', 'display_name': 'ax66', 'uid': '13918747'}>, 'revision': 1670249637710563}>\n"
     ]
    }
   ],
   "source": [
    "print(y.get_disk_info())"
   ],
   "metadata": {
    "collapsed": false,
    "pycharm": {
     "name": "#%%\n"
    }
   }
  },
  {
   "cell_type": "code",
   "execution_count": 8,
   "outputs": [
    {
     "name": "stdout",
     "output_type": "stream",
     "text": [
      "[<ResourceObject{'antivirus_status': None, 'file': None, 'size': None, 'public_key': None, 'sha256': None, 'embedded': None, 'name': 'MyDocuments', 'exif': <EXIFObject{'date_time': None}>, 'resource_id': '13918747:0fe38b6711416811b9872a4404e6bd3d97d88d370317f517cd17102b1bbe730f', 'custom_properties': None, 'public_url': None, 'share': None, 'modified': datetime.datetime(2020, 10, 14, 18, 59, 58, tzinfo=datetime.timezone.utc), 'created': datetime.datetime(2020, 10, 14, 18, 59, 58, tzinfo=datetime.timezone.utc), 'photoslice_time': None, 'mime_type': None, 'path': 'disk:/MyDocuments', 'preview': None, 'comment_ids': <CommentIDsObject{'private_resource': '13918747:0fe38b6711416811b9872a4404e6bd3d97d88d370317f517cd17102b1bbe730f', 'public_resource': '13918747:0fe38b6711416811b9872a4404e6bd3d97d88d370317f517cd17102b1bbe730f'}>, 'type': 'dir', 'media_type': None, 'md5': None, 'revision': 1602701998618227}>, <ResourceObject{'antivirus_status': None, 'file': None, 'size': None, 'public_key': None, 'sha256': None, 'embedded': None, 'name': 'Videos', 'exif': <EXIFObject{'date_time': None}>, 'resource_id': '13918747:5b9a749e2f53636ccf2534d495ff9a7c2a2f45754f968250a02995783997bb86', 'custom_properties': None, 'public_url': None, 'share': None, 'modified': datetime.datetime(2021, 6, 11, 19, 26, 26, tzinfo=datetime.timezone.utc), 'created': datetime.datetime(2021, 5, 12, 16, 56, 18, tzinfo=datetime.timezone.utc), 'photoslice_time': None, 'mime_type': None, 'path': 'disk:/Videos', 'preview': None, 'comment_ids': <CommentIDsObject{'private_resource': '13918747:5b9a749e2f53636ccf2534d495ff9a7c2a2f45754f968250a02995783997bb86', 'public_resource': '13918747:5b9a749e2f53636ccf2534d495ff9a7c2a2f45754f968250a02995783997bb86'}>, 'type': 'dir', 'media_type': None, 'md5': None, 'revision': 1623439592709706}>, <ResourceObject{'antivirus_status': None, 'file': None, 'size': None, 'public_key': None, 'sha256': None, 'embedded': None, 'name': 'backup', 'exif': <EXIFObject{'date_time': None}>, 'resource_id': '13918747:dbca4ec610cbd40651e073ab0416be78868b225d926fe1be0aef33bdae5c9872', 'custom_properties': None, 'public_url': None, 'share': None, 'modified': datetime.datetime(2019, 8, 14, 15, 54, 38, tzinfo=datetime.timezone.utc), 'created': datetime.datetime(2019, 8, 14, 15, 54, 38, tzinfo=datetime.timezone.utc), 'photoslice_time': None, 'mime_type': None, 'path': 'disk:/backup', 'preview': None, 'comment_ids': <CommentIDsObject{'private_resource': '13918747:dbca4ec610cbd40651e073ab0416be78868b225d926fe1be0aef33bdae5c9872', 'public_resource': '13918747:dbca4ec610cbd40651e073ab0416be78868b225d926fe1be0aef33bdae5c9872'}>, 'type': 'dir', 'media_type': None, 'md5': None, 'revision': 1565798078749637}>, <ResourceObject{'antivirus_status': None, 'file': None, 'size': None, 'public_key': None, 'sha256': None, 'embedded': None, 'name': 'install', 'exif': <EXIFObject{'date_time': None}>, 'resource_id': '13918747:f0c545029b4e413ab618e2841f951cdd238581db39ac4416925787bda14b94ee', 'custom_properties': None, 'public_url': None, 'share': None, 'modified': datetime.datetime(2018, 3, 23, 11, 14, 42, tzinfo=datetime.timezone.utc), 'created': datetime.datetime(2018, 3, 23, 11, 14, 42, tzinfo=datetime.timezone.utc), 'photoslice_time': None, 'mime_type': None, 'path': 'disk:/install', 'preview': None, 'comment_ids': <CommentIDsObject{'private_resource': '13918747:f0c545029b4e413ab618e2841f951cdd238581db39ac4416925787bda14b94ee', 'public_resource': '13918747:f0c545029b4e413ab618e2841f951cdd238581db39ac4416925787bda14b94ee'}>, 'type': 'dir', 'media_type': None, 'md5': None, 'revision': 1521803682390000}>, <ResourceObject{'antivirus_status': None, 'file': None, 'size': None, 'public_key': None, 'sha256': None, 'embedded': None, 'name': 'photos', 'exif': <EXIFObject{'date_time': None}>, 'resource_id': '13918747:f6fcbc7a415ca72d466932e8873002808ee287127cd0f21a7ee2a43b59c3f39c', 'custom_properties': None, 'public_url': None, 'share': None, 'modified': datetime.datetime(2019, 8, 14, 12, 12, 48, tzinfo=datetime.timezone.utc), 'created': datetime.datetime(2019, 8, 14, 12, 12, 48, tzinfo=datetime.timezone.utc), 'photoslice_time': None, 'mime_type': None, 'path': 'disk:/photos', 'preview': None, 'comment_ids': <CommentIDsObject{'private_resource': '13918747:f6fcbc7a415ca72d466932e8873002808ee287127cd0f21a7ee2a43b59c3f39c', 'public_resource': '13918747:f6fcbc7a415ca72d466932e8873002808ee287127cd0f21a7ee2a43b59c3f39c'}>, 'type': 'dir', 'media_type': None, 'md5': None, 'revision': 1565784768877125}>, <ResourceObject{'antivirus_status': None, 'file': None, 'size': None, 'public_key': None, 'sha256': None, 'embedded': None, 'name': 't', 'exif': <EXIFObject{'date_time': None}>, 'resource_id': '13918747:0a4d62d578d794e7482b03c2da89dca12b598d9729094db8d9d117a4d29c55fc', 'custom_properties': None, 'public_url': None, 'share': None, 'modified': datetime.datetime(2022, 10, 21, 15, 18, 27, tzinfo=datetime.timezone.utc), 'created': datetime.datetime(2022, 10, 21, 15, 18, 27, tzinfo=datetime.timezone.utc), 'photoslice_time': None, 'mime_type': None, 'path': 'disk:/t', 'preview': None, 'comment_ids': <CommentIDsObject{'private_resource': '13918747:0a4d62d578d794e7482b03c2da89dca12b598d9729094db8d9d117a4d29c55fc', 'public_resource': '13918747:0a4d62d578d794e7482b03c2da89dca12b598d9729094db8d9d117a4d29c55fc'}>, 'type': 'dir', 'media_type': None, 'md5': None, 'revision': 1666365507234488}>, <ResourceObject{'antivirus_status': None, 'file': None, 'size': None, 'public_key': None, 'sha256': None, 'embedded': None, 'name': 'uti', 'exif': <EXIFObject{'date_time': None}>, 'resource_id': '13918747:12d762ad1aee35fd0c6da4921fb15e658d40e241539810c0dbf8d1f806784748', 'custom_properties': None, 'public_url': None, 'share': None, 'modified': datetime.datetime(2019, 8, 13, 22, 13, 7, tzinfo=datetime.timezone.utc), 'created': datetime.datetime(2019, 8, 13, 22, 13, 7, tzinfo=datetime.timezone.utc), 'photoslice_time': None, 'mime_type': None, 'path': 'disk:/uti', 'preview': None, 'comment_ids': <CommentIDsObject{'private_resource': '13918747:12d762ad1aee35fd0c6da4921fb15e658d40e241539810c0dbf8d1f806784748', 'public_resource': '13918747:12d762ad1aee35fd0c6da4921fb15e658d40e241539810c0dbf8d1f806784748'}>, 'type': 'dir', 'media_type': None, 'md5': None, 'revision': 1565734387500879}>, <ResourceObject{'antivirus_status': None, 'file': None, 'size': None, 'public_key': 'bNyuzy0CgwjlTdv0qDRjNQhn1t5iPfD9bhseo8GS91ytuq5N1CmMeDh+L+J+bVGcq/J6bpmRyOJonT3VoXnDag==', 'sha256': None, 'embedded': None, 'name': 'Загрузки', 'exif': <EXIFObject{'date_time': None}>, 'resource_id': '13918747:37f7acb7e050df7ae9e382fee2d91e03f45f3251717c468a3e63dda472c4cd7b', 'custom_properties': None, 'public_url': 'https://yadi.sk/d/jREDv8BpN8cNJQ', 'share': None, 'modified': datetime.datetime(2021, 2, 18, 18, 42, 24, tzinfo=datetime.timezone.utc), 'created': datetime.datetime(2018, 3, 24, 17, 42, 12, tzinfo=datetime.timezone.utc), 'photoslice_time': None, 'mime_type': None, 'path': 'disk:/Загрузки', 'preview': None, 'comment_ids': <CommentIDsObject{'private_resource': '13918747:37f7acb7e050df7ae9e382fee2d91e03f45f3251717c468a3e63dda472c4cd7b', 'public_resource': '13918747:37f7acb7e050df7ae9e382fee2d91e03f45f3251717c468a3e63dda472c4cd7b'}>, 'type': 'dir', 'media_type': None, 'md5': None, 'revision': 1613673744255216}>, <ResourceObject{'antivirus_status': None, 'file': None, 'size': None, 'public_key': None, 'sha256': None, 'embedded': None, 'name': 'Приложения', 'exif': <EXIFObject{'date_time': None}>, 'resource_id': '13918747:4b22db56d212ce261880eea9463d10309853c7f6cc2d59750de84fc9dd21bd15', 'custom_properties': None, 'public_url': None, 'share': None, 'modified': datetime.datetime(2020, 3, 14, 13, 23, 6, tzinfo=datetime.timezone.utc), 'created': datetime.datetime(2020, 3, 14, 13, 23, 6, tzinfo=datetime.timezone.utc), 'photoslice_time': None, 'mime_type': None, 'path': 'disk:/Приложения', 'preview': None, 'comment_ids': <CommentIDsObject{'private_resource': '13918747:4b22db56d212ce261880eea9463d10309853c7f6cc2d59750de84fc9dd21bd15', 'public_resource': '13918747:4b22db56d212ce261880eea9463d10309853c7f6cc2d59750de84fc9dd21bd15'}>, 'type': 'dir', 'media_type': None, 'md5': None, 'revision': 1584192186568533}>, <ResourceObject{'antivirus_status': None, 'file': None, 'size': None, 'public_key': None, 'sha256': None, 'embedded': None, 'name': 'Разобрать', 'exif': <EXIFObject{'date_time': None}>, 'resource_id': '13918747:7f9b801d2a897cf563723fea0b8fafcf26a1b43f669c87a9ce84724e128aea18', 'custom_properties': None, 'public_url': None, 'share': None, 'modified': datetime.datetime(2019, 8, 29, 9, 59, 54, tzinfo=datetime.timezone.utc), 'created': datetime.datetime(2019, 8, 29, 9, 59, 54, tzinfo=datetime.timezone.utc), 'photoslice_time': None, 'mime_type': None, 'path': 'disk:/Разобрать', 'preview': None, 'comment_ids': <CommentIDsObject{'private_resource': '13918747:7f9b801d2a897cf563723fea0b8fafcf26a1b43f669c87a9ce84724e128aea18', 'public_resource': '13918747:7f9b801d2a897cf563723fea0b8fafcf26a1b43f669c87a9ce84724e128aea18'}>, 'type': 'dir', 'media_type': None, 'md5': None, 'revision': 1581334372528906}>, <ResourceObject{'antivirus_status': None, 'file': None, 'size': None, 'public_key': None, 'sha256': None, 'embedded': None, 'name': 'Скриншоты', 'exif': <EXIFObject{'date_time': None}>, 'resource_id': '13918747:2fbc0aa919dc20c7d2f0df8f73b8ede7f6af9038e34a44b257af0aa1fe29ac45', 'custom_properties': None, 'public_url': None, 'share': None, 'modified': datetime.datetime(2020, 12, 9, 7, 19, 42, tzinfo=datetime.timezone.utc), 'created': datetime.datetime(2020, 12, 9, 7, 19, 42, tzinfo=datetime.timezone.utc), 'photoslice_time': None, 'mime_type': None, 'path': 'disk:/Скриншоты', 'preview': None, 'comment_ids': <CommentIDsObject{'private_resource': '13918747:2fbc0aa919dc20c7d2f0df8f73b8ede7f6af9038e34a44b257af0aa1fe29ac45', 'public_resource': '13918747:2fbc0aa919dc20c7d2f0df8f73b8ede7f6af9038e34a44b257af0aa1fe29ac45'}>, 'type': 'dir', 'media_type': None, 'md5': None, 'revision': 1607498382968107}>, <ResourceObject{'antivirus_status': None, 'file': None, 'size': None, 'public_key': None, 'sha256': None, 'embedded': None, 'name': 'Социальные сети', 'exif': <EXIFObject{'date_time': None}>, 'resource_id': '13918747:bdb68e2def8fcce279952321a76ad5dbb2bc217254a0a5a6a5b95467afd4a3a0', 'custom_properties': None, 'public_url': None, 'share': None, 'modified': datetime.datetime(2018, 3, 22, 22, 26, 30, tzinfo=datetime.timezone.utc), 'created': datetime.datetime(2018, 3, 22, 22, 26, 30, tzinfo=datetime.timezone.utc), 'photoslice_time': None, 'mime_type': None, 'path': 'disk:/Социальные сети', 'preview': None, 'comment_ids': <CommentIDsObject{'private_resource': '13918747:bdb68e2def8fcce279952321a76ad5dbb2bc217254a0a5a6a5b95467afd4a3a0', 'public_resource': '13918747:bdb68e2def8fcce279952321a76ad5dbb2bc217254a0a5a6a5b95467afd4a3a0'}>, 'type': 'dir', 'media_type': None, 'md5': None, 'revision': 1521757590671352}>]\n"
     ]
    }
   ],
   "source": [
    "print(list(y.listdir(\"/\")))\n"
   ],
   "metadata": {
    "collapsed": false,
    "pycharm": {
     "name": "#%%\n"
    }
   }
  },
  {
   "cell_type": "code",
   "execution_count": 12,
   "outputs": [
    {
     "name": "stdout",
     "output_type": "stream",
     "text": [
      "<LinkObject{'href': 'https://cloud-api.yandex.net/v1/disk/resources?path=disk%3A%2Fapps%2Ftmp', 'method': 'GET', 'templated': False}>\n"
     ]
    }
   ],
   "source": [
    "print(y.mkdir(\"/apps/tmp\"))\n"
   ],
   "metadata": {
    "collapsed": false,
    "pycharm": {
     "name": "#%%\n"
    }
   }
  },
  {
   "cell_type": "code",
   "execution_count": null,
   "outputs": [],
   "source": [
    "with open(\"/apps/tmp/file_to_upload.txt\", \"rb\") as f:\n",
    "    y.upload(f, \"/destination.txt\")\n"
   ],
   "metadata": {
    "collapsed": false,
    "pycharm": {
     "name": "#%%\n"
    }
   }
  }
 ],
 "metadata": {
  "kernelspec": {
   "display_name": "Python 3",
   "language": "python",
   "name": "python3"
  },
  "language_info": {
   "codemirror_mode": {
    "name": "ipython",
    "version": 2
   },
   "file_extension": ".py",
   "mimetype": "text/x-python",
   "name": "python",
   "nbconvert_exporter": "python",
   "pygments_lexer": "ipython2",
   "version": "2.7.6"
  }
 },
 "nbformat": 4,
 "nbformat_minor": 0
}